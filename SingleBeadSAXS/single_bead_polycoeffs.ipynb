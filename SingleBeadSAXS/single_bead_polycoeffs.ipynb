{
 "cells": [
  {
   "cell_type": "code",
   "execution_count": 30,
   "metadata": {},
   "outputs": [
    {
     "name": "stdout",
     "output_type": "stream",
     "text": [
      "┌──────────────────────────────────────────────────────────────────────────────┐\n",
      "│                                 PyRosetta-4                                  │\n",
      "│              Created in JHU by Sergey Lyskov and PyRosetta Team              │\n",
      "│              (C) Copyright Rosetta Commons Member Institutions               │\n",
      "│                                                                              │\n",
      "│ NOTE: USE OF PyRosetta FOR COMMERCIAL PURPOSES REQUIRE PURCHASE OF A LICENSE │\n",
      "│         See LICENSE.PyRosetta.md or email license@uw.edu for details         │\n",
      "└──────────────────────────────────────────────────────────────────────────────┘\n",
      "PyRosetta-4 2024 [Rosetta PyRosetta4.conda.m1.cxx11thread.serialization.python311.Release 2024.42+release.3366cf78a3df04339d1982e94531b77b098ddb99 2024-10-11T08:24:04] retrieved from: http://www.pyrosetta.org\n",
      "core.init: Checking for fconfig files in pwd and ./rosetta/flags\n",
      "core.init: Rosetta version: PyRosetta4.conda.m1.cxx11thread.serialization.python311.Release r388 2024.42+release.3366cf78a3 3366cf78a3df04339d1982e94531b77b098ddb99 http://www.pyrosetta.org 2024-10-11T08:24:04\n",
      "core.init: Rosetta extras: [cxx11thread, serialization]\n",
      "core.init: command: PyRosetta -ex1 -ex2aro -database /opt/homebrew/Caskroom/mambaforge/base/envs/pepsi/lib/python3.11/site-packages/pyrosetta/database\n",
      "basic.random.init_random_generator: 'RNG device' seed mode, using '/dev/urandom', seed=517075533 seed_offset=0 real_seed=517075533 thread_index=0\n",
      "basic.random.init_random_generator: RandomGenerator:init: Normal mode, seed=517075533 RG_type=mt19937\n"
     ]
    }
   ],
   "source": [
    "import matplotlib.pyplot as plt\n",
    "import pyrosetta as pr\n",
    "import numpy as np\n",
    "import pandas as pd\n",
    "from rotamer_library import load_rotamor_library, all_atom_coordinates_from_restype, restype_1to3 \n",
    "from mapping_aas import map_pyrosetta_atom_names, get_res_map_martini, map_pyrosetta_martini_names\n",
    "from formfactor import cSAXSparameters, calculate_distogram, getAAFormFactor_fast, poly6d_fixed\n",
    "import tqdm\n",
    "import matplotlib.cm as cm\n",
    "import os \n",
    "import argparse\n",
    "import csv\n",
    "\n",
    "pr.init()\n",
    "\n",
    "libpath = '/Users/isabelvinterbladh/Documents/Github/saxs-python/dunbrack-rotamer/original'\n",
    "db = load_rotamor_library(libpath)"
   ]
  },
  {
   "cell_type": "code",
   "execution_count": 2,
   "metadata": {},
   "outputs": [
    {
     "data": {
      "text/plain": [
       "array([[False,  True,  True],\n",
       "       [ True, False,  True],\n",
       "       [ True,  True, False]])"
      ]
     },
     "execution_count": 2,
     "metadata": {},
     "output_type": "execute_result"
    }
   ],
   "source": [
    "np.random.seed(0)\n",
    "np.eye(3)==0\n"
   ]
  },
  {
   "cell_type": "code",
   "execution_count": 6,
   "metadata": {},
   "outputs": [
    {
     "name": "stdout",
     "output_type": "stream",
     "text": [
      "\n",
      " > Calculating bead form factor for ALA ...\n",
      "core.chemical.GlobalResidueTypeSet: Finished initializing fa_standard residue type set.  Created 985 residue types\n",
      "core.chemical.GlobalResidueTypeSet: Total time to initialize 0.450064 seconds.\n"
     ]
    },
    {
     "name": "stderr",
     "output_type": "stream",
     "text": [
      "1369it [00:00, 30924.52it/s]"
     ]
    },
    {
     "name": "stdout",
     "output_type": "stream",
     "text": [
      "Number of rotamers found in Dunbrack lib: 1369\n",
      "[' N  ', ' CA ', ' C  ', ' O  ', ' OXT', ' CB ', '1H  ', '2H  ', '3H  ', ' HA ', '1HB ', '2HB ', '3HB '] ALA\n",
      "functools.partial(<function poly6d_fixed.<locals>.poly_func at 0x1073358a0>, coeffs=array([ 46.48701176,   0.        , -37.58685699,   1.68882898,\n",
      "        19.66411739,  -9.35215638,   1.28037354]))\n"
     ]
    },
    {
     "name": "stderr",
     "output_type": "stream",
     "text": [
      "\n"
     ]
    },
    {
     "name": "stdout",
     "output_type": "stream",
     "text": [
      "\n",
      " > Calculating bead form factor for ARG ...\n"
     ]
    },
    {
     "name": "stderr",
     "output_type": "stream",
     "text": [
      "41106it [00:02, 15579.91it/s]\n"
     ]
    },
    {
     "ename": "KeyboardInterrupt",
     "evalue": "",
     "output_type": "error",
     "traceback": [
      "\u001b[0;31m---------------------------------------------------------------------------\u001b[0m",
      "\u001b[0;31mKeyboardInterrupt\u001b[0m                         Traceback (most recent call last)",
      "Cell \u001b[0;32mIn [6], line 22\u001b[0m\n\u001b[1;32m     19\u001b[0m restype3 \u001b[38;5;241m=\u001b[39m restype_1to3[restype]\n\u001b[1;32m     20\u001b[0m \u001b[38;5;28mprint\u001b[39m(\u001b[38;5;124m\"\u001b[39m\u001b[38;5;130;01m\\n\u001b[39;00m\u001b[38;5;124m > Calculating bead form factor for \u001b[39m\u001b[38;5;132;01m%s\u001b[39;00m\u001b[38;5;124m ...\u001b[39m\u001b[38;5;124m\"\u001b[39m\u001b[38;5;241m%\u001b[39mrestype3)\n\u001b[0;32m---> 22\u001b[0m all_coordinates, atom_names,elements, probs \u001b[38;5;241m=\u001b[39m \u001b[43mall_atom_coordinates_from_restype\u001b[49m\u001b[43m(\u001b[49m\u001b[43mrestype\u001b[49m\u001b[43m,\u001b[49m\u001b[43m \u001b[49m\u001b[43mdb\u001b[49m\u001b[43m)\u001b[49m\n\u001b[1;32m     23\u001b[0m n_rotamer \u001b[38;5;241m=\u001b[39m \u001b[38;5;28mlen\u001b[39m(all_coordinates)\n\u001b[1;32m     24\u001b[0m \u001b[38;5;28mprint\u001b[39m(\u001b[38;5;124m\"\u001b[39m\u001b[38;5;124mNumber of rotamers found in Dunbrack lib: \u001b[39m\u001b[38;5;132;01m%i\u001b[39;00m\u001b[38;5;124m\"\u001b[39m\u001b[38;5;241m%\u001b[39mn_rotamer)\n",
      "File \u001b[0;32m~/Documents/Github/SingleBeadSAXS/SingleBeadSAXS/rotamer_library.py:194\u001b[0m, in \u001b[0;36mall_atom_coordinates_from_restype\u001b[0;34m(restype, db)\u001b[0m\n\u001b[1;32m    191\u001b[0m     \u001b[38;5;28;01mfor\u001b[39;00m i \u001b[38;5;129;01min\u001b[39;00m \u001b[38;5;28mrange\u001b[39m(num_chi):\n\u001b[1;32m    192\u001b[0m         pose\u001b[38;5;241m.\u001b[39mset_chi(\u001b[38;5;241m1\u001b[39m\u001b[38;5;241m+\u001b[39mi, \u001b[38;5;241m1\u001b[39m, rotamer\u001b[38;5;241m.\u001b[39m\u001b[38;5;21m__getattribute__\u001b[39m(\u001b[38;5;124m\"\u001b[39m\u001b[38;5;124mchi\u001b[39m\u001b[38;5;132;01m%i\u001b[39;00m\u001b[38;5;124mVal\u001b[39m\u001b[38;5;124m\"\u001b[39m\u001b[38;5;241m%\u001b[39m(i\u001b[38;5;241m+\u001b[39m\u001b[38;5;241m1\u001b[39m)))\n\u001b[0;32m--> 194\u001b[0m     coords \u001b[38;5;241m=\u001b[39m \u001b[43mcoords_from_pose\u001b[49m\u001b[43m(\u001b[49m\u001b[43mpose\u001b[49m\u001b[43m)\u001b[49m\n\u001b[1;32m    195\u001b[0m     all_coordinates\u001b[38;5;241m.\u001b[39mappend(coords)\n\u001b[1;32m    197\u001b[0m all_coordinates \u001b[38;5;241m=\u001b[39m np\u001b[38;5;241m.\u001b[39marray(all_coordinates)\n",
      "File \u001b[0;32m~/Documents/Github/SingleBeadSAXS/SingleBeadSAXS/rotamer_library.py:157\u001b[0m, in \u001b[0;36mcoords_from_pose\u001b[0;34m(pose)\u001b[0m\n\u001b[1;32m    155\u001b[0m     \u001b[38;5;66;03m# Get the Cartesian coordinates of the atom\u001b[39;00m\n\u001b[1;32m    156\u001b[0m     coord \u001b[38;5;241m=\u001b[39m atom\u001b[38;5;241m.\u001b[39mxyz()  \u001b[38;5;66;03m# This gives a PyRosetta XYZ object\u001b[39;00m\n\u001b[0;32m--> 157\u001b[0m     coordinates\u001b[38;5;241m.\u001b[39mappend([coord\u001b[38;5;241m.\u001b[39mx, coord\u001b[38;5;241m.\u001b[39my, coord\u001b[38;5;241m.\u001b[39mz])  \u001b[38;5;66;03m# Convert to list\u001b[39;00m\n\u001b[1;32m    159\u001b[0m \u001b[38;5;66;03m# Convert the list to a NumPy array\u001b[39;00m\n\u001b[1;32m    160\u001b[0m \u001b[38;5;28;01mreturn\u001b[39;00m np\u001b[38;5;241m.\u001b[39marray(coordinates)\n",
      "\u001b[0;31mKeyboardInterrupt\u001b[0m: "
     ]
    },
    {
     "data": {
      "image/png": "[encoded data removed]",
      "text/plain": [
       "<Figure size 640x480 with 1 Axes>"
      ]
     },
     "metadata": {},
     "output_type": "display_data"
    }
   ],
   "source": [
    "%run formfactor.py\n",
    "db = load_rotamor_library(libpath)\n",
    "\n",
    "def getAll_FF(qvals, atom_names_mapped_non_hydrogen, all_coordinates_non_hydrogen):\n",
    "    saxs_params = cSAXSparameters()\n",
    "    FF = np.array([saxs_params.computeFormFactors(atom_names_mapped_non_hydrogen, q) for q in qvals]).T\n",
    "    #for atoms in all_coordinates_non_hydrogen:\n",
    "     #   all_rotamers = []\n",
    "     #   for i, _q in enumerate(qvals):\n",
    "            \n",
    "    amino_FF = saxs_params.getAAFormFactor(qvals, FF, atom_names_mapped_non_hydrogen, all_coordinates_non_hydrogen) \n",
    "    return amino_FF #np.array(total, dtype=complex)\n",
    "\n",
    "with open('poly_coeffs.csv', 'w', newline='') as csvfile:\n",
    "    writer = csv.writer(csvfile)\n",
    "    writer.writerow(['Restype', 'Coefficient Index', 'Value'])\n",
    "\n",
    "    for restype in restype_1to3.keys():\n",
    "        restype3 = restype_1to3[restype]\n",
    "        print(\"\\n > Calculating bead form factor for %s ...\"%restype3)\n",
    "        \n",
    "        all_coordinates, atom_names,elements, probs = all_atom_coordinates_from_restype(restype, db)\n",
    "        n_rotamer = len(all_coordinates)\n",
    "        print(\"Number of rotamers found in Dunbrack lib: %i\"%n_rotamer)\n",
    "        print(atom_names, restype3)\n",
    "        \n",
    "        atom_names_mapped = map_pyrosetta_atom_names(atom_names, restype3)\n",
    "        # let's remove the hydrogrens from the coordinates\n",
    "        non_hydrogen_indices = [i for i, n in enumerate(atom_names_mapped) if n is not None]\n",
    "        all_coordinates_non_hydrogen = all_coordinates[:,non_hydrogen_indices]\n",
    "        atom_names_mapped_non_hydrogen = [n for i, n in enumerate(atom_names_mapped) if i in non_hydrogen_indices]\n",
    "        qfits = np.linspace(0.75, 2, 80)\n",
    "        qfits = np.insert(qfits, 0, 0.0)\n",
    "        #print((np.sqrt(np.sum((coords[..., None, :] - coords[..., None, :, :]) ** 2, axis=-1))[...,None]*qfits))\n",
    "        \n",
    "        \n",
    "        total = getAll_FF(qfits, atom_names_mapped_non_hydrogen, all_coordinates_non_hydrogen)\n",
    "        #print(total.shape)\n",
    "        \n",
    "        V = np.sum((total)*probs[...,None], axis=0)\n",
    "        #F0 = getAll_FF([0.0], atom_names_mapped_non_hydrogen, all_coordinates_non_hydrogen)\n",
    "        #qfits = np.insert(qfits, 0, 0.0)\n",
    "        #V = np.insert(V, 0, np.sum(F0))\n",
    "        \n",
    "        poly_coeffs = poly6d_fixed(qfits, V)\n",
    "        \n",
    "        print(poly_coeffs)\n",
    "        qtest = np.linspace(0.0, 2.0, 100)\n",
    "        plt.plot(qtest, poly_coeffs(x=qtest), 'o')\n",
    "        \n",
    "    \n",
    "        # Save poly_coeffs to a CSV file\n",
    "        coeffs = poly_coeffs.keywords['coeffs']\n",
    "        for i, coeff in enumerate(coeffs):\n",
    "                writer.writerow([restype3, i, coeff])\n",
    "    \n",
    "    \n"
   ]
  },
  {
   "cell_type": "code",
   "execution_count": 42,
   "metadata": {},
   "outputs": [
    {
     "name": "stdout",
     "output_type": "stream",
     "text": [
      "\n",
      " > Calculating bead form factor for ALA ...\n"
     ]
    },
    {
     "name": "stderr",
     "output_type": "stream",
     "text": [
      "1369it [00:00, 23591.19it/s]\n"
     ]
    },
    {
     "name": "stdout",
     "output_type": "stream",
     "text": [
      "Number of rotamers found in Dunbrack lib: 1369\n",
      "[' N  ', ' CA ', ' C  ', ' O  ', ' OXT', ' CB ', '1H  ', '2H  ', '3H  ', ' HA ', '1HB ', '2HB ', '3HB '] ALA\n",
      "(1, 6, 6)\n",
      "FF: (6, 6, 2) (6, 6, 2) atomffs: (6, 2)\n",
      "Factors: (6, 2)\n"
     ]
    },
    {
     "name": "stderr",
     "output_type": "stream",
     "text": [
      "  0%|          | 0/1 [00:00<?, ?it/s]"
     ]
    },
    {
     "name": "stdout",
     "output_type": "stream",
     "text": [
      "dq (6, 6, 2) (1, 2)\n",
      "(6, 6, 2) (6, 2)\n"
     ]
    },
    {
     "name": "stderr",
     "output_type": "stream",
     "text": [
      "\n"
     ]
    },
    {
     "ename": "IndexError",
     "evalue": "too many indices for array: array is 2-dimensional, but 3 were indexed",
     "output_type": "error",
     "traceback": [
      "\u001b[0;31m---------------------------------------------------------------------------\u001b[0m",
      "\u001b[0;31mIndexError\u001b[0m                                Traceback (most recent call last)",
      "Cell \u001b[0;32mIn [42], line 21\u001b[0m\n\u001b[1;32m     16\u001b[0m \u001b[38;5;66;03m#qfits = np.linspace(0.75, 2, 80)\u001b[39;00m\n\u001b[1;32m     17\u001b[0m \u001b[38;5;66;03m#qfits = np.insert(qfits, 0, 0.0)\u001b[39;00m\n\u001b[1;32m     18\u001b[0m \u001b[38;5;66;03m#print((np.sqrt(np.sum((coords[..., None, :] - coords[..., None, :, :]) ** 2, axis=-1))[...,None]*qfits))\u001b[39;00m\n\u001b[1;32m     19\u001b[0m qfits \u001b[38;5;241m=\u001b[39m np\u001b[38;5;241m.\u001b[39marray([\u001b[38;5;241m0\u001b[39m,\u001b[38;5;241m0.1\u001b[39m])       \n\u001b[0;32m---> 21\u001b[0m total \u001b[38;5;241m=\u001b[39m \u001b[43mgetAll_FF\u001b[49m\u001b[43m(\u001b[49m\u001b[43mqfits\u001b[49m\u001b[43m,\u001b[49m\u001b[43m \u001b[49m\u001b[43matom_names_mapped_non_hydrogen\u001b[49m\u001b[43m,\u001b[49m\u001b[43m \u001b[49m\u001b[43mall_coordinates_non_hydrogen\u001b[49m\u001b[43m[\u001b[49m\u001b[43m:\u001b[49m\u001b[38;5;241;43m1\u001b[39;49m\u001b[43m]\u001b[49m\u001b[43m)\u001b[49m\n\u001b[1;32m     22\u001b[0m \u001b[38;5;28mprint\u001b[39m(total\u001b[38;5;241m.\u001b[39mshape)\n\u001b[1;32m     25\u001b[0m V \u001b[38;5;241m=\u001b[39m np\u001b[38;5;241m.\u001b[39msum((total)\u001b[38;5;241m*\u001b[39mprobs[\u001b[38;5;241m.\u001b[39m\u001b[38;5;241m.\u001b[39m\u001b[38;5;241m.\u001b[39m,\u001b[38;5;28;01mNone\u001b[39;00m][:\u001b[38;5;241m1\u001b[39m], axis\u001b[38;5;241m=\u001b[39m\u001b[38;5;241m0\u001b[39m)\n",
      "Cell \u001b[0;32mIn [6], line 11\u001b[0m, in \u001b[0;36mgetAll_FF\u001b[0;34m(qvals, atom_names_mapped_non_hydrogen, all_coordinates_non_hydrogen)\u001b[0m\n\u001b[1;32m      6\u001b[0m FF \u001b[38;5;241m=\u001b[39m np\u001b[38;5;241m.\u001b[39marray([saxs_params\u001b[38;5;241m.\u001b[39mcomputeFormFactors(atom_names_mapped_non_hydrogen, q) \u001b[38;5;28;01mfor\u001b[39;00m q \u001b[38;5;129;01min\u001b[39;00m qvals])\u001b[38;5;241m.\u001b[39mT\n\u001b[1;32m      7\u001b[0m \u001b[38;5;66;03m#for atoms in all_coordinates_non_hydrogen:\u001b[39;00m\n\u001b[1;32m      8\u001b[0m  \u001b[38;5;66;03m#   all_rotamers = []\u001b[39;00m\n\u001b[1;32m      9\u001b[0m  \u001b[38;5;66;03m#   for i, _q in enumerate(qvals):\u001b[39;00m\n\u001b[0;32m---> 11\u001b[0m amino_FF \u001b[38;5;241m=\u001b[39m \u001b[43msaxs_params\u001b[49m\u001b[38;5;241;43m.\u001b[39;49m\u001b[43mgetAAFormFactor\u001b[49m\u001b[43m(\u001b[49m\u001b[43mqvals\u001b[49m\u001b[43m,\u001b[49m\u001b[43m \u001b[49m\u001b[43mFF\u001b[49m\u001b[43m,\u001b[49m\u001b[43m \u001b[49m\u001b[43matom_names_mapped_non_hydrogen\u001b[49m\u001b[43m,\u001b[49m\u001b[43m \u001b[49m\u001b[43mall_coordinates_non_hydrogen\u001b[49m\u001b[43m)\u001b[49m \n\u001b[1;32m     12\u001b[0m \u001b[38;5;28;01mreturn\u001b[39;00m amino_FF\n",
      "File \u001b[0;32m~/Documents/Github/SingleBeadSAXS/SingleBeadSAXS/formfactor.py:172\u001b[0m, in \u001b[0;36mcSAXSparameters.getAAFormFactor\u001b[0;34m(self, qval, atomffs, params, coords)\u001b[0m\n\u001b[1;32m    170\u001b[0m     zeros \u001b[38;5;241m=\u001b[39m dq \u001b[38;5;241m<\u001b[39m \u001b[38;5;241m1e-6\u001b[39m\n\u001b[1;32m    171\u001b[0m     \u001b[38;5;28mprint\u001b[39m(zeros\u001b[38;5;241m.\u001b[39mshape, Factors\u001b[38;5;241m.\u001b[39mshape)\n\u001b[0;32m--> 172\u001b[0m     \u001b[43mFactors\u001b[49m\u001b[43m[\u001b[49m\u001b[43mzeros\u001b[49m\u001b[43m]\u001b[49m \u001b[38;5;241m+\u001b[39m\u001b[38;5;241m=\u001b[39m FF[zeros] \u001b[38;5;241m*\u001b[39m (\u001b[38;5;241m1\u001b[39m)\n\u001b[1;32m    173\u001b[0m     Factors[\u001b[38;5;241m~\u001b[39mzeros] \u001b[38;5;241m+\u001b[39m\u001b[38;5;241m=\u001b[39m aff_matrix[\u001b[38;5;241m~\u001b[39mzeros] \u001b[38;5;241m*\u001b[39m (np\u001b[38;5;241m.\u001b[39msin(dq[\u001b[38;5;241m~\u001b[39mzeros]) \u001b[38;5;241m/\u001b[39m dq[\u001b[38;5;241m~\u001b[39mzeros])\n\u001b[1;32m    176\u001b[0m \u001b[38;5;66;03m#Factors[...,qval==0] = np.sum(atomffs[...,qval==0]) # for q = 0\u001b[39;00m\n",
      "\u001b[0;31mIndexError\u001b[0m: too many indices for array: array is 2-dimensional, but 3 were indexed"
     ]
    }
   ],
   "source": [
    "%run formfactor.py\n",
    "restype3 = restype_1to3['A']\n",
    "restype = 'A'\n",
    "print(\"\\n > Calculating bead form factor for %s ...\"%restype3)\n",
    "        \n",
    "all_coordinates, atom_names,elements, probs = all_atom_coordinates_from_restype(restype, db)\n",
    "n_rotamer = len(all_coordinates)\n",
    "print(\"Number of rotamers found in Dunbrack lib: %i\"%n_rotamer)\n",
    "print(atom_names, restype3)\n",
    "        \n",
    "atom_names_mapped = map_pyrosetta_atom_names(atom_names, restype3)\n",
    "        # let's remove the hydrogrens from the coordinates\n",
    "non_hydrogen_indices = [i for i, n in enumerate(atom_names_mapped) if n is not None]\n",
    "all_coordinates_non_hydrogen = all_coordinates[:,non_hydrogen_indices]\n",
    "atom_names_mapped_non_hydrogen = [n for i, n in enumerate(atom_names_mapped) if i in non_hydrogen_indices]\n",
    "#qfits = np.linspace(0.75, 2, 80)\n",
    "#qfits = np.insert(qfits, 0, 0.0)\n",
    "#print((np.sqrt(np.sum((coords[..., None, :] - coords[..., None, :, :]) ** 2, axis=-1))[...,None]*qfits))\n",
    "qfits = np.array([0,0.1])       \n",
    "        \n",
    "total = getAll_FF(qfits, atom_names_mapped_non_hydrogen, all_coordinates_non_hydrogen[:1])\n",
    "print(total.shape)\n",
    "        \n",
    "        \n",
    "V = np.sum((total)*probs[...,None][:1], axis=0)"
   ]
  },
  {
   "cell_type": "code",
   "execution_count": 13,
   "metadata": {},
   "outputs": [
    {
     "data": {
      "text/plain": [
       "array([46.486294  , 46.12250042])"
      ]
     },
     "execution_count": 13,
     "metadata": {},
     "output_type": "execute_result"
    }
   ],
   "source": [
    "V"
   ]
  },
  {
   "cell_type": "code",
   "execution_count": null,
   "metadata": {},
   "outputs": [],
   "source": []
  }
 ],
 "metadata": {
  "kernelspec": {
   "display_name": "pepsi",
   "language": "python",
   "name": "python3"
  },
  "language_info": {
   "codemirror_mode": {
    "name": "ipython",
    "version": 3
   },
   "file_extension": ".py",
   "mimetype": "text/x-python",
   "name": "python",
   "nbconvert_exporter": "python",
   "pygments_lexer": "ipython3",
   "version": "3.11.0"
  }
 },
 "nbformat": 4,
 "nbformat_minor": 2
}
